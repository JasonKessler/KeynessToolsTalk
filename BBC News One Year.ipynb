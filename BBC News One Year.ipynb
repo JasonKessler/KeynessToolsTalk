{
 "cells": [
  {
   "cell_type": "code",
   "execution_count": 1,
   "metadata": {},
   "outputs": [
    {
     "data": {
      "text/html": [
       "<style>.container { width:98% !important; }</style>"
      ],
      "text/plain": [
       "<IPython.core.display.HTML object>"
      ]
     },
     "metadata": {},
     "output_type": "display_data"
    }
   ],
   "source": [
    "%load_ext autoreload\n",
    "%autoreload 2\n",
    "import os, json, re, sys, time, warnings, datetime, glob\n",
    "sys.path.insert(0, '../scattertext/')\n",
    "import spacy \n",
    "import pandas as pd\n",
    "import numpy as np\n",
    "import scattertext as st\n",
    "from tqdm.auto import tqdm\n",
    "tqdm.pandas()\n",
    "\n",
    "from IPython.display import IFrame\n",
    "from IPython.core.display import display, HTML\n",
    "display(HTML(\"<style>.container { width:98% !important; }</style>\"))\n",
    "\n",
    "assert st.version >= [0, 1, 15] "
   ]
  },
  {
   "cell_type": "code",
   "execution_count": 2,
   "metadata": {},
   "outputs": [
    {
     "data": {
      "text/plain": [
       "<spacy.pipeline.sentencizer.Sentencizer at 0x7fb75dadbf50>"
      ]
     },
     "execution_count": 2,
     "metadata": {},
     "output_type": "execute_result"
    }
   ],
   "source": [
    "nlp = spacy.blank('en')\n",
    "nlp.add_pipe('sentencizer')"
   ]
  },
  {
   "cell_type": "code",
   "execution_count": 3,
   "metadata": {},
   "outputs": [
    {
     "data": {
      "application/vnd.jupyter.widget-view+json": {
       "model_id": "a2735f1ababe4b48823124841ea6f23d",
       "version_major": 2,
       "version_minor": 0
      },
      "text/plain": [
       "  0%|          | 0/13955 [00:00<?, ?it/s]"
      ]
     },
     "metadata": {},
     "output_type": "display_data"
    }
   ],
   "source": [
    "# From https://www.kaggle.com/datasets/gpreda/bbc-news\n",
    "bbc_df = pd.read_csv('bbc_news.csv.gz').assign(\n",
    "    Date = lambda df: pd.to_datetime(df.pubDate),\n",
    "    Parse = lambda df: df.description.progress_apply(nlp),\n",
    "    DateStr=lambda df: df.Date.apply(lambda x: x.strftime(\"%Y-%m-%d\")),    \n",
    ")"
   ]
  },
  {
   "cell_type": "code",
   "execution_count": 4,
   "metadata": {},
   "outputs": [],
   "source": [
    "bbc_df = bbc_df[lambda df: df.DateStr > '2022-02-17'].sort_values(by='Date')"
   ]
  },
  {
   "cell_type": "code",
   "execution_count": 5,
   "metadata": {},
   "outputs": [
    {
     "data": {
      "application/vnd.jupyter.widget-view+json": {
       "model_id": "f924a5cca9d54adfaf200e83c16954eb",
       "version_major": 2,
       "version_minor": 0
      },
      "text/plain": [
       "  0%|          | 0/203879 [00:00<?, ?it/s]"
      ]
     },
     "metadata": {},
     "output_type": "display_data"
    },
    {
     "data": {
      "application/vnd.jupyter.widget-view+json": {
       "model_id": "b8a84e8d3bce4d2483ec7758dc80a9de",
       "version_major": 2,
       "version_minor": 0
      },
      "text/plain": [
       "  0%|          | 0/203879 [00:00<?, ?it/s]"
      ]
     },
     "metadata": {},
     "output_type": "display_data"
    }
   ],
   "source": [
    "word_number_matcher = re.compile('^[A-Za-z0-9 ]+$')\n",
    "\n",
    "def exclude_ngrams_which_do_not_start_and_end_with_function_words(ngram: spacy.tokens.Span) -> bool:\n",
    "    return any([ngram[0].lower_.strip() in st.MY_ENGLISH_STOP_WORDS,\n",
    "                ngram[-1].lower_.strip() in st.MY_ENGLISH_STOP_WORDS,\n",
    "                word_number_matcher.match(ngram[0].lower_.strip()) is None,\n",
    "                word_number_matcher.match(ngram[-1].lower_.strip()) is None])\n",
    "\n",
    "corpus = st.OffsetCorpusFactory(\n",
    "    bbc_df,\n",
    "    category_col='DateStr',\n",
    "    parsed_col='Parse',\n",
    "    feat_and_offset_getter=st.FlexibleNGramFeatures(\n",
    "        ngram_sizes=[1, 2, 3, 4, 5],\n",
    "        exclude_ngram_filter = exclude_ngrams_which_do_not_start_and_end_with_function_words\n",
    "    )\n",
    ").build().compact(\n",
    "    compactor=st.NPMICompactor(\n",
    "        minimum_term_count = 3,\n",
    "        number_terms_per_length = 2000,\n",
    "    ),\n",
    "    non_text=True\n",
    ").compact(\n",
    "    st.NgramPercentageCompactor(\n",
    "        usage_portion=0.6,\n",
    "    ),\n",
    "    non_text=True\n",
    ").filter_out(\n",
    "    lambda x: len(x) == 1,\n",
    "    non_text=True\n",
    ").compact(\n",
    "    compactor=st.AssociationCompactor(\n",
    "        2000,\n",
    "        scorer=st.DeltaJSDivergenceScorer,\n",
    "        term_ranker=st.OncePerDocFrequencyRanker,\n",
    "        use_non_text_features=True,\n",
    "    ),\n",
    "    non_text=True\n",
    ")"
   ]
  },
  {
   "cell_type": "code",
   "execution_count": 6,
   "metadata": {},
   "outputs": [],
   "source": [
    "def get_heading(corpus):\n",
    "    df = corpus.get_df()\n",
    "    return df['Date'].astype(str) + ': <a href=\"' + df.link + '\">' + df.title + '</a>'"
   ]
  },
  {
   "cell_type": "code",
   "execution_count": 7,
   "metadata": {},
   "outputs": [
    {
     "data": {
      "text/html": [
       "\n",
       "        <iframe\n",
       "            width=\"1300\"\n",
       "            height=\"700\"\n",
       "            src=\"bbc_divided.html\"\n",
       "            frameborder=\"0\"\n",
       "            allowfullscreen\n",
       "        ></iframe>\n",
       "        "
      ],
      "text/plain": [
       "<IPython.lib.display.IFrame at 0x7fb75c586f10>"
      ]
     },
     "execution_count": 7,
     "metadata": {},
     "output_type": "execute_result"
    }
   ],
   "source": [
    "divided_corpus = corpus.recategorize(\n",
    "    np.array(['Pre-Sept 2022', 'Sept 2022 and after'])[\n",
    "        np.array(corpus.get_category_names_by_row() > '2022-09-00').astype(int)])\n",
    "\n",
    "\n",
    "html = st.produce_scattertext_explorer(\n",
    "    divided_corpus,\n",
    "    category='Pre-Sept 2022', \n",
    "    category_name='Pre-Sept 2022', \n",
    "    not_category_name='Sept 2022 and after',\n",
    "    minimum_term_frequency=0,\n",
    "    pmi_threshold_coefficient=0,\n",
    "    use_offsets=True,\n",
    "    use_non_text_features=True,\n",
    "    width_in_pixels=1000, \n",
    "    metadata=get_heading,\n",
    "    transform=st.Scalers.dense_rank\n",
    ")\n",
    "fn = 'bbc_divided.html'\n",
    "with open(fn, 'w') as of:\n",
    "    of.write(html)\n",
    "IFrame(src=fn, width = 1300, height=700)\n"
   ]
  },
  {
   "cell_type": "code",
   "execution_count": 8,
   "metadata": {},
   "outputs": [
    {
     "data": {
      "text/html": [
       "\n",
       "        <iframe\n",
       "            width=\"1300\"\n",
       "            height=\"700\"\n",
       "            src=\"bbc_divided_jsd.html\"\n",
       "            frameborder=\"0\"\n",
       "            allowfullscreen\n",
       "        ></iframe>\n",
       "        "
      ],
      "text/plain": [
       "<IPython.lib.display.IFrame at 0x7fb75aedfb90>"
      ]
     },
     "execution_count": 8,
     "metadata": {},
     "output_type": "execute_result"
    }
   ],
   "source": [
    "\n",
    "html = st.produce_frequency_explorer(\n",
    "    divided_corpus,\n",
    "    category='Pre-Sept 2022', \n",
    "    category_name='Pre-Sept 2022', \n",
    "    not_category_name='Sept 2022 and after',\n",
    "    minimum_term_frequency=0,\n",
    "    pmi_threshold_coefficient=0,\n",
    "    use_offsets=True,\n",
    "    use_non_text_features=True,\n",
    "    width_in_pixels=1000, \n",
    "    metadata=get_heading,\n",
    "    term_scorer=st.DeltaJSDivergence(),\n",
    "    transform=st.Scalers.dense_rank\n",
    ")\n",
    "fn = 'bbc_divided_jsd.html'\n",
    "with open(fn, 'w') as of:\n",
    "    of.write(html)\n",
    "IFrame(src=fn, width = 1300, height=700)\n"
   ]
  },
  {
   "cell_type": "code",
   "execution_count": 9,
   "metadata": {},
   "outputs": [
    {
     "data": {
      "text/html": [
       "\n",
       "        <iframe\n",
       "            width=\"1300\"\n",
       "            height=\"700\"\n",
       "            src=\"bbc_divided_lor.html\"\n",
       "            frameborder=\"0\"\n",
       "            allowfullscreen\n",
       "        ></iframe>\n",
       "        "
      ],
      "text/plain": [
       "<IPython.lib.display.IFrame at 0x7fb76417a290>"
      ]
     },
     "execution_count": 9,
     "metadata": {},
     "output_type": "execute_result"
    }
   ],
   "source": [
    "\n",
    "html = st.produce_frequency_explorer(\n",
    "    divided_corpus,\n",
    "    category='Pre-Sept 2022', \n",
    "    category_name='Pre-Sept 2022', \n",
    "    not_category_name='Sept 2022 and after',\n",
    "    minimum_term_frequency=0,\n",
    "    pmi_threshold_coefficient=0,\n",
    "    use_offsets=True,\n",
    "    use_non_text_features=True,\n",
    "    width_in_pixels=1000, \n",
    "    metadata=get_heading,\n",
    "    term_scorer=st.LogOddsRatioSmoothed(),\n",
    "    transform=st.Scalers.dense_rank\n",
    ")\n",
    "fn = 'bbc_divided_lor.html'\n",
    "with open(fn, 'w') as of:\n",
    "    of.write(html)\n",
    "IFrame(src=fn, width = 1300, height=700)\n"
   ]
  },
  {
   "cell_type": "code",
   "execution_count": 10,
   "metadata": {},
   "outputs": [
    {
     "name": "stderr",
     "output_type": "stream",
     "text": [
      "../scattertext/scattertext/Scalers.py:247: RuntimeWarning: invalid value encountered in true_divide\n",
      "  vec_ss = (vec_ss - vec_ss.min()) * 1. / (vec_ss.max() - vec_ss.min())\n"
     ]
    },
    {
     "name": "stdout",
     "output_type": "stream",
     "text": [
      "120.16814517974854\n"
     ]
    },
    {
     "data": {
      "text/html": [
       "\n",
       "        <iframe\n",
       "            width=\"1300\"\n",
       "            height=\"700\"\n",
       "            src=\"bbc_dispersion_table.html\"\n",
       "            frameborder=\"0\"\n",
       "            allowfullscreen\n",
       "        ></iframe>\n",
       "        "
      ],
      "text/plain": [
       "<IPython.lib.display.IFrame at 0x7fb76543b4d0>"
      ]
     },
     "execution_count": 10,
     "metadata": {},
     "output_type": "execute_result"
    }
   ],
   "source": [
    "from time import time\n",
    "t0 = time()\n",
    "category_order = list(sorted(corpus.get_categories()))\n",
    "html = st.produce_scattertext_table(\n",
    "    corpus=corpus,\n",
    "    category_order=category_order,\n",
    "    all_category_scorer=lambda c: st.AllCategoryTermScorer(c, term_scorer=st.DeltaJSDivergenceScorer),\n",
    "    metadata = lambda c: c.get_df()['Date'].astype(str),\n",
    "    ignore_categories=False,\n",
    "    plot_width=1000,\n",
    "    sort_doc_labels_by_name=True,\n",
    "    use_offsets=True,\n",
    "    non_text=True,\n",
    "    trend_plot_settings=st.DispersionPlotSettings(\n",
    "        category_order=category_order,\n",
    "        metric='DA',\n",
    "        use_residual=False,\n",
    "    )\n",
    ")\n",
    "print(time() - t0)\n",
    "fn = 'bbc_dispersion_table.html'\n",
    "with open(fn, 'w') as of:\n",
    "    of.write(html)\n",
    "IFrame(src=fn, width = 1300, height=700)\n"
   ]
  },
  {
   "cell_type": "code",
   "execution_count": 11,
   "metadata": {},
   "outputs": [],
   "source": [
    "grouper = st.CharacteristicGrouper(\n",
    "    corpus, \n",
    "    non_text=True,\n",
    "    rank_embedder=st.RankEmbedder(\n",
    "        term_scorer=st.DeltaJSDivergenceScorer(corpus), \n",
    "        rank_threshold=10\n",
    "    ),\n",
    "    window_size=1,\n",
    "    to_text=' to '\n",
    ")\n",
    "\n",
    "heading_categories, heading_category_order = grouper.get_new_doc_categories(\n",
    "    number_of_splits=5,\n",
    "    category_order=list(sorted(corpus.get_categories())),\n",
    "    verbose=True\n",
    ")"
   ]
  },
  {
   "cell_type": "code",
   "execution_count": 22,
   "metadata": {},
   "outputs": [
    {
     "name": "stderr",
     "output_type": "stream",
     "text": [
      "../scattertext/scattertext/Scalers.py:247: RuntimeWarning: invalid value encountered in true_divide\n",
      "  vec_ss = (vec_ss - vec_ss.min()) * 1. / (vec_ss.max() - vec_ss.min())\n"
     ]
    },
    {
     "name": "stdout",
     "output_type": "stream",
     "text": [
      "3.9367170333862305\n"
     ]
    },
    {
     "data": {
      "text/html": [
       "\n",
       "        <iframe\n",
       "            width=\"1300\"\n",
       "            height=\"700\"\n",
       "            src=\"bbc_grouped_dispersion_table.html\"\n",
       "            frameborder=\"0\"\n",
       "            allowfullscreen\n",
       "        ></iframe>\n",
       "        "
      ],
      "text/plain": [
       "<IPython.lib.display.IFrame at 0x7fb76629ff90>"
      ]
     },
     "execution_count": 22,
     "metadata": {},
     "output_type": "execute_result"
    }
   ],
   "source": [
    "from time import time\n",
    "t0 = time()\n",
    "html = st.produce_scattertext_table(\n",
    "    corpus=corpus,\n",
    "    heading_categories = heading_categories,\n",
    "    heading_category_order = heading_category_order,\n",
    "    category_order=list(sorted(corpus.get_categories())),\n",
    "    all_category_scorer=lambda c: st.AllCategoryTermScorer(c, term_scorer=st.DeltaJSDivergenceScorer),\n",
    "    metadata = lambda c: c.get_df()['Date'].astype(str),\n",
    "    ignore_categories=False,\n",
    "    plot_width=700,\n",
    "    plot_height=400,\n",
    "    top_terms_length=8,\n",
    "    sort_doc_labels_by_name=True,\n",
    "    use_offsets=True,\n",
    "    non_text=True,\n",
    "    trend_plot_settings=st.DispersionPlotSettings(\n",
    "        category_order=list(sorted(corpus.get_categories())),\n",
    "        metric='DA',\n",
    "        use_residual=False,\n",
    "    )\n",
    ")\n",
    "print(time() - t0)\n",
    "fn = 'bbc_grouped_dispersion_table.html'\n",
    "with open(fn, 'w') as of:\n",
    "    of.write(html)\n",
    "IFrame(src=fn, width = 1300, height=700)\n",
    "\n"
   ]
  },
  {
   "cell_type": "code",
   "execution_count": null,
   "metadata": {},
   "outputs": [],
   "source": []
  },
  {
   "cell_type": "code",
   "execution_count": 18,
   "metadata": {},
   "outputs": [
    {
     "name": "stderr",
     "output_type": "stream",
     "text": [
      "../scattertext/scattertext/Scalers.py:247: RuntimeWarning: invalid value encountered in true_divide\n",
      "  vec_ss = (vec_ss - vec_ss.min()) * 1. / (vec_ss.max() - vec_ss.min())\n"
     ]
    },
    {
     "name": "stdout",
     "output_type": "stream",
     "text": [
      "4.476346015930176\n"
     ]
    },
    {
     "data": {
      "text/html": [
       "\n",
       "        <iframe\n",
       "            width=\"1300\"\n",
       "            height=\"700\"\n",
       "            src=\"bbc_grouped_residual_dispersion_table.html\"\n",
       "            frameborder=\"0\"\n",
       "            allowfullscreen\n",
       "        ></iframe>\n",
       "        "
      ],
      "text/plain": [
       "<IPython.lib.display.IFrame at 0x7fb75f9280d0>"
      ]
     },
     "execution_count": 18,
     "metadata": {},
     "output_type": "execute_result"
    }
   ],
   "source": [
    "from time import time\n",
    "t0 = time()\n",
    "html = st.produce_scattertext_table(\n",
    "    corpus=corpus,\n",
    "    heading_categories = heading_categories,\n",
    "    heading_category_order = heading_category_order,\n",
    "    category_order=list(sorted(corpus.get_categories())),\n",
    "    all_category_scorer=lambda c: st.AllCategoryTermScorer(c, term_scorer=st.DeltaJSDivergenceScorer),\n",
    "    metadata = lambda c: c.get_df()['Date'].astype(str),\n",
    "    ignore_categories=False,\n",
    "    plot_width=700,\n",
    "    plot_height=400,\n",
    "    top_terms_length=8,\n",
    "    sort_doc_labels_by_name=True,\n",
    "    use_offsets=True,\n",
    "    non_text=True,\n",
    "    trend_plot_settings=st.DispersionPlotSettings(\n",
    "        category_order=list(sorted(corpus.get_categories())),\n",
    "        metric='DA',\n",
    "        use_residual=True,\n",
    "    )\n",
    ")\n",
    "print(time() - t0)\n",
    "fn = 'bbc_grouped_residual_dispersion_table.html'\n",
    "with open(fn, 'w') as of:\n",
    "    of.write(html)\n",
    "IFrame(src=fn, width = 1300, height=700)\n"
   ]
  },
  {
   "cell_type": "code",
   "execution_count": 25,
   "metadata": {},
   "outputs": [
    {
     "name": "stdout",
     "output_type": "stream",
     "text": [
      "2.7514150142669678\n"
     ]
    },
    {
     "data": {
      "text/html": [
       "\n",
       "        <iframe\n",
       "            width=\"1300\"\n",
       "            height=\"700\"\n",
       "            src=\"bbc_grouped_time_table.html\"\n",
       "            frameborder=\"0\"\n",
       "            allowfullscreen\n",
       "        ></iframe>\n",
       "        "
      ],
      "text/plain": [
       "<IPython.lib.display.IFrame at 0x7fb769339ed0>"
      ]
     },
     "execution_count": 25,
     "metadata": {},
     "output_type": "execute_result"
    }
   ],
   "source": [
    "from time import time\n",
    "t0 = time()\n",
    "html = st.produce_scattertext_table(\n",
    "    corpus=corpus,\n",
    "    heading_categories = heading_categories,\n",
    "    heading_category_order = heading_category_order,\n",
    "    category_order=list(sorted(corpus.get_categories())),\n",
    "    all_category_scorer=lambda c: st.AllCategoryTermScorer(c, term_scorer=st.DeltaJSDivergenceScorer),\n",
    "    metadata = lambda c: c.get_df()['Date'].astype(str),\n",
    "    ignore_categories=False,\n",
    "    plot_width=700,\n",
    "    plot_height=400,\n",
    "    top_terms_length=8,\n",
    "    sort_doc_labels_by_name=True,\n",
    "    use_offsets=True,\n",
    "    non_text=True,\n",
    "    trend_plot_settings=st.TimePlotSettings(\n",
    "        category_order=list(sorted(corpus.get_categories())),\n",
    "        dispersion_metric='DA',\n",
    "        dispersion_scaler=st.Scalers.dense_rank\n",
    "    )\n",
    ")\n",
    "print(time() - t0)\n",
    "fn = 'bbc_grouped_time_table.html'\n",
    "with open(fn, 'w') as of:\n",
    "    of.write(html)\n",
    "IFrame(src=fn, width = 1300, height=700)\n",
    "\n"
   ]
  },
  {
   "cell_type": "code",
   "execution_count": 26,
   "metadata": {},
   "outputs": [
    {
     "name": "stdout",
     "output_type": "stream",
     "text": [
      "2.5758211612701416\n"
     ]
    },
    {
     "data": {
      "text/html": [
       "\n",
       "        <iframe\n",
       "            width=\"1300\"\n",
       "            height=\"700\"\n",
       "            src=\"bbc_grouped_time_table_bigger.html\"\n",
       "            frameborder=\"0\"\n",
       "            allowfullscreen\n",
       "        ></iframe>\n",
       "        "
      ],
      "text/plain": [
       "<IPython.lib.display.IFrame at 0x7fb74a027850>"
      ]
     },
     "execution_count": 26,
     "metadata": {},
     "output_type": "execute_result"
    }
   ],
   "source": [
    "from time import time\n",
    "t0 = time()\n",
    "html = st.produce_scattertext_table(\n",
    "    corpus=corpus,\n",
    "    heading_categories = heading_categories,\n",
    "    heading_category_order = heading_category_order,\n",
    "    category_order=list(sorted(corpus.get_categories())),\n",
    "    all_category_scorer=lambda c: st.AllCategoryTermScorer(c, term_scorer=st.DeltaJSDivergenceScorer),\n",
    "    metadata = lambda c: c.get_df()['Date'].astype(str),\n",
    "    ignore_categories=False,\n",
    "    plot_width=1000,\n",
    "    plot_height=400,\n",
    "    top_terms_length=8,\n",
    "    sort_doc_labels_by_name=True,\n",
    "    use_offsets=True,\n",
    "    non_text=True,\n",
    "    trend_plot_settings=st.TimePlotSettings(\n",
    "        category_order=list(sorted(corpus.get_categories())),\n",
    "        dispersion_metric='DA',\n",
    "        dispersion_scaler=st.Scalers.dense_rank\n",
    "    )\n",
    ")\n",
    "print(time() - t0)\n",
    "fn = 'bbc_grouped_time_table_bigger.html'\n",
    "with open(fn, 'w') as of:\n",
    "    of.write(html)\n",
    "IFrame(src=fn, width = 1300, height=700)\n"
   ]
  },
  {
   "cell_type": "code",
   "execution_count": 24,
   "metadata": {},
   "outputs": [
    {
     "ename": "SyntaxError",
     "evalue": "unexpected EOF while parsing (<ipython-input-24-21f217abd976>, line 22)",
     "output_type": "error",
     "traceback": [
      "\u001b[0;36m  File \u001b[0;32m\"<ipython-input-24-21f217abd976>\"\u001b[0;36m, line \u001b[0;32m22\u001b[0m\n\u001b[0;31m    of.write(html\u001b[0m\n\u001b[0m                 ^\u001b[0m\n\u001b[0;31mSyntaxError\u001b[0m\u001b[0;31m:\u001b[0m unexpected EOF while parsing\n"
     ]
    }
   ],
   "source": [
    "from time import time\n",
    "t0 = time()\n",
    "html = st.produce_scattertext_table(\n",
    "    corpus=corpus,\n",
    "    heading_categories = heading_categories,\n",
    "    heading_category_order = heading_category_order,\n",
    "    category_order=list(sorted(corpus.get_categories())),\n",
    "    all_category_scorer=lambda c: st.AllCategoryTermScorer(c, term_scorer=st.DeltaJSDivergenceScorer),\n",
    "    metadata = lambda c: c.get_df()['Date'].astype(str),\n",
    "    ignore_categories=False,\n",
    "    plot_width=1000,\n",
    "    sort_doc_labels_by_name=True,\n",
    "    use_offsets=True,\n",
    "    non_text=True,\n",
    "    trend_plot_settings=st.CorrelationPlotSettings(\n",
    "        category_order=list(sorted(corpus.get_categories()))\n",
    "    )\n",
    ")\n",
    "print(time() - t0)\n",
    "fn = 'bbc_grouped_correlation_table_bigger.html'\n",
    "with open(fn, 'w') as of:\n",
    "    of.write(html)"
   ]
  },
  {
   "cell_type": "code",
   "execution_count": null,
   "metadata": {},
   "outputs": [],
   "source": []
  },
  {
   "cell_type": "code",
   "execution_count": null,
   "metadata": {},
   "outputs": [],
   "source": []
  }
 ],
 "metadata": {
  "kernelspec": {
   "display_name": "py38",
   "language": "python",
   "name": "py38"
  },
  "language_info": {
   "codemirror_mode": {
    "name": "ipython",
    "version": 3
   },
   "file_extension": ".py",
   "mimetype": "text/x-python",
   "name": "python",
   "nbconvert_exporter": "python",
   "pygments_lexer": "ipython3",
   "version": "3.7.6"
  }
 },
 "nbformat": 4,
 "nbformat_minor": 2
}
