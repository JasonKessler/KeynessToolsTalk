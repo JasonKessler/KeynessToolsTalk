{
 "cells": [
  {
   "cell_type": "code",
   "execution_count": 540,
   "metadata": {},
   "outputs": [
    {
     "name": "stdout",
     "output_type": "stream",
     "text": [
      "The autoreload extension is already loaded. To reload it, use:\n",
      "  %reload_ext autoreload\n"
     ]
    }
   ],
   "source": [
    "%load_ext autoreload\n",
    "%autoreload 2\n",
    "import os, json, re, sys, time, warnings, datetime, glob\n",
    "#sys.path.insert(0, '../scattertext/')\n",
    "import spacy \n",
    "import pandas as pd\n",
    "import numpy as np\n",
    "import scattertext as st"
   ]
  },
  {
   "cell_type": "code",
   "execution_count": 541,
   "metadata": {},
   "outputs": [
    {
     "data": {
      "text/plain": [
       "<spacy.pipeline.sentencizer.Sentencizer at 0x7fa9fad22500>"
      ]
     },
     "execution_count": 541,
     "metadata": {},
     "output_type": "execute_result"
    }
   ],
   "source": [
    "nlp = spacy.blank('en')\n",
    "nlp.add_pipe('sentencizer')"
   ]
  },
  {
   "cell_type": "code",
   "execution_count": 542,
   "metadata": {},
   "outputs": [
    {
     "data": {
      "application/vnd.jupyter.widget-view+json": {
       "model_id": "75d2711f8baf49578c9222d4e51d4b62",
       "version_major": 2,
       "version_minor": 0
      },
      "text/plain": [
       "  0%|          | 0/13955 [00:00<?, ?it/s]"
      ]
     },
     "metadata": {},
     "output_type": "display_data"
    }
   ],
   "source": [
    "# From https://www.kaggle.com/datasets/gpreda/bbc-news\n",
    "bbc_df = pd.read_csv('bbc_news.csv.gz').assign(\n",
    "    Date = lambda df: pd.to_datetime(df.pubDate),\n",
    "    Parse = lambda df: df.description.progress_apply(nlp),\n",
    "    DateStr=lambda df: df.Date.apply(lambda x: x.strftime(\"%Y-%m-%d\")),    \n",
    ")"
   ]
  },
  {
   "cell_type": "code",
   "execution_count": 543,
   "metadata": {},
   "outputs": [],
   "source": [
    "bbc_df = bbc_df[lambda df: df.DateStr > '2022-02-17'].sort_values(by='Date')"
   ]
  },
  {
   "cell_type": "code",
   "execution_count": 544,
   "metadata": {},
   "outputs": [
    {
     "data": {
      "application/vnd.jupyter.widget-view+json": {
       "model_id": "8323f6216e71410daf331ad1bcd2de31",
       "version_major": 2,
       "version_minor": 0
      },
      "text/plain": [
       "  0%|          | 0/203879 [00:00<?, ?it/s]"
      ]
     },
     "metadata": {},
     "output_type": "display_data"
    },
    {
     "data": {
      "application/vnd.jupyter.widget-view+json": {
       "model_id": "a43822cd48c24d92bc8087d0c9f926e2",
       "version_major": 2,
       "version_minor": 0
      },
      "text/plain": [
       "  0%|          | 0/203879 [00:00<?, ?it/s]"
      ]
     },
     "metadata": {},
     "output_type": "display_data"
    }
   ],
   "source": [
    "word_number_matcher = re.compile('^[A-Za-z0-9 ]+$')\n",
    "\n",
    "def exclude_ngrams_which_do_not_start_and_end_with_function_words(ngram: spacy.tokens.Span) -> bool:\n",
    "    return any([ngram[0].lower_.strip() in st.MY_ENGLISH_STOP_WORDS,\n",
    "                ngram[-1].lower_.strip() in st.MY_ENGLISH_STOP_WORDS,\n",
    "                word_number_matcher.match(ngram[0].lower_.strip()) is None,\n",
    "                word_number_matcher.match(ngram[-1].lower_.strip()) is None])\n",
    "\n",
    "corpus = st.OffsetCorpusFactory(\n",
    "    bbc_df,\n",
    "    category_col='DateStr',\n",
    "    parsed_col='Parse',\n",
    "    feat_and_offset_getter=st.FlexibleNGramFeatures(\n",
    "        ngram_sizes=[1, 2, 3, 4, 5],\n",
    "        exclude_ngram_filter = exclude_ngrams_which_do_not_start_and_end_with_function_words\n",
    "    )\n",
    ").build().compact(\n",
    "    compactor=st.NPMICompactor(\n",
    "        minimum_term_count = 3,\n",
    "        number_terms_per_length = 2000,\n",
    "    ),\n",
    "    non_text=True\n",
    ").compact(\n",
    "    st.NgramPercentageCompactor(\n",
    "        usage_portion=0.6,\n",
    "    ),\n",
    "    non_text=True\n",
    ").filter_out(\n",
    "    lambda x: len(x) == 1,\n",
    "    non_text=True\n",
    ").compact(\n",
    "    compactor=st.AssociationCompactor(\n",
    "        2000,\n",
    "        scorer=st.DeltaJSDivergenceScorer,\n",
    "        term_ranker=st.OncePerDocFrequencyRanker,\n",
    "        use_non_text_features=True,\n",
    "    ),\n",
    "    non_text=True\n",
    ")"
   ]
  },
  {
   "cell_type": "code",
   "execution_count": 559,
   "metadata": {},
   "outputs": [],
   "source": [
    "def get_heading(corpus):\n",
    "    df = corpus.get_df()\n",
    "    return df['Date'].astype(str) + ': <a href=\"' + df.link + '\">' + df.title + '</a>'"
   ]
  },
  {
   "cell_type": "code",
   "execution_count": 560,
   "metadata": {},
   "outputs": [
    {
     "data": {
      "text/plain": [
       "8373763"
      ]
     },
     "execution_count": 560,
     "metadata": {},
     "output_type": "execute_result"
    }
   ],
   "source": [
    "divided_corpus = corpus.recategorize(\n",
    "    np.array(['Pre-Sept 2022', 'Sept 2022 and after'])[\n",
    "        np.array(corpus.get_category_names_by_row() > '2022-09-00').astype(int)])\n",
    "\n",
    "\n",
    "html = st.produce_scattertext_explorer(\n",
    "    divided_corpus,\n",
    "    category='Pre-Sept 2022', \n",
    "    category_name='Pre-Sept 2022', \n",
    "    not_category_name='Sept 2022 and after',\n",
    "    minimum_term_frequency=0,\n",
    "    pmi_threshold_coefficient=0,\n",
    "    use_offsets=True,\n",
    "    use_non_text_features=True,\n",
    "    width_in_pixels=1000, \n",
    "    metadata=get_heading,\n",
    "    transform=st.Scalers.dense_rank\n",
    ")\n",
    "fn = 'bbc_divided.html'\n",
    "open(fn, 'w').write(html)\n"
   ]
  },
  {
   "cell_type": "code",
   "execution_count": 558,
   "metadata": {},
   "outputs": [
    {
     "name": "stderr",
     "output_type": "stream",
     "text": [
      "../scattertext/scattertext/Scalers.py:247: RuntimeWarning: invalid value encountered in true_divide\n",
      "  vec_ss = (vec_ss - vec_ss.min()) * 1. / (vec_ss.max() - vec_ss.min())\n"
     ]
    },
    {
     "name": "stdout",
     "output_type": "stream",
     "text": [
      "103.74240303039551\n"
     ]
    }
   ],
   "source": [
    "from time import time\n",
    "t0 = time()\n",
    "html = st.produce_scattertext_table(\n",
    "    corpus=corpus,\n",
    "    #heading_categories = heading_categories,\n",
    "    #heading_category_order = heading_category_order,\n",
    "    category_order=list(sorted(corpus.get_categories())),\n",
    "    all_category_scorer=lambda c: st.AllCategoryTermScorer(c, term_scorer=st.DeltaJSDivergenceScorer),\n",
    "    metadata = lambda c: c.get_df()['Date'].astype(str),\n",
    "    ignore_categories=False,\n",
    "    plot_width=1000,\n",
    "    sort_doc_labels_by_name=True,\n",
    "    use_offsets=True,\n",
    "    non_text=True,\n",
    "    trend_plot_settings=st.DispersionPlotSettings(\n",
    "        category_order=list(sorted(corpus.get_categories())),\n",
    "        metric='DP',\n",
    "        use_residual=True,\n",
    "        #dispersion_scaler=st.Scalers.log_scale_with_negatives\n",
    "    )\n",
    ")\n",
    "print(time() - t0)\n",
    "fn = 'demo_dispersion_table.html'\n",
    "with open(fn, 'w') as of:\n",
    "    of.write(html)\n",
    "\n"
   ]
  },
  {
   "cell_type": "code",
   "execution_count": 549,
   "metadata": {},
   "outputs": [
    {
     "name": "stderr",
     "output_type": "stream",
     "text": [
      "../scattertext/scattertext/Scalers.py:247: RuntimeWarning: invalid value encountered in true_divide\n",
      "  vec_ss = (vec_ss - vec_ss.min()) * 1. / (vec_ss.max() - vec_ss.min())\n"
     ]
    },
    {
     "name": "stdout",
     "output_type": "stream",
     "text": [
      "120.83623814582825\n"
     ]
    }
   ],
   "source": [
    "from time import time\n",
    "t0 = time()\n",
    "category_order = list(sorted(corpus.get_categories()))\n",
    "html = st.produce_scattertext_table(\n",
    "    corpus=corpus,\n",
    "    category_order=category_order,\n",
    "    all_category_scorer=lambda c: st.AllCategoryTermScorer(c, term_scorer=st.DeltaJSDivergenceScorer),\n",
    "    metadata = lambda c: c.get_df()['Date'].astype(str),\n",
    "    ignore_categories=False,\n",
    "    plot_width=1000,\n",
    "    sort_doc_labels_by_name=True,\n",
    "    use_offsets=True,\n",
    "    non_text=True,\n",
    "    trend_plot_settings=st.DispersionPlotSettings(\n",
    "        category_order=category_order,\n",
    "        metric='DA',\n",
    "        use_residual=False,\n",
    "    )\n",
    ")\n",
    "print(time() - t0)\n",
    "fn = 'bbc_dispersion_table.html'\n",
    "with open(fn, 'w') as of:\n",
    "    of.write(html)\n",
    "\n"
   ]
  },
  {
   "cell_type": "code",
   "execution_count": 561,
   "metadata": {},
   "outputs": [
    {
     "data": {
      "application/vnd.jupyter.widget-view+json": {
       "model_id": "0ce96cbb239740daa89d7c237154e5ee",
       "version_major": 2,
       "version_minor": 0
      },
      "text/plain": [
       "  0%|          | 0/360 [00:00<?, ?it/s]"
      ]
     },
     "metadata": {},
     "output_type": "display_data"
    }
   ],
   "source": [
    "grouper = st.CharacteristicGrouper(\n",
    "    corpus, \n",
    "    non_text=True,\n",
    "    rank_embedder=st.RankEmbedder(\n",
    "        term_scorer=st.DeltaJSDivergenceScorer(corpus), \n",
    "        rank_threshold=10\n",
    "    ),\n",
    "    window_size=1,\n",
    "    to_text=' to '\n",
    ")\n",
    "\n",
    "heading_categories, heading_category_order = grouper.get_new_doc_categories(\n",
    "    number_of_splits=5,\n",
    "    category_order=list(sorted(corpus.get_categories())),\n",
    "    verbose=True\n",
    ")"
   ]
  },
  {
   "cell_type": "code",
   "execution_count": 563,
   "metadata": {},
   "outputs": [
    {
     "name": "stderr",
     "output_type": "stream",
     "text": [
      "../scattertext/scattertext/Scalers.py:247: RuntimeWarning: invalid value encountered in true_divide\n",
      "  vec_ss = (vec_ss - vec_ss.min()) * 1. / (vec_ss.max() - vec_ss.min())\n"
     ]
    },
    {
     "name": "stdout",
     "output_type": "stream",
     "text": [
      "3.5177550315856934\n"
     ]
    }
   ],
   "source": [
    "from time import time\n",
    "t0 = time()\n",
    "html = st.produce_scattertext_table(\n",
    "    corpus=corpus,\n",
    "    heading_categories = heading_categories,\n",
    "    heading_category_order = heading_category_order,\n",
    "    category_order=list(sorted(corpus.get_categories())),\n",
    "    all_category_scorer=lambda c: st.AllCategoryTermScorer(c, term_scorer=st.DeltaJSDivergenceScorer),\n",
    "    metadata = lambda c: c.get_df()['Date'].astype(str),\n",
    "    ignore_categories=False,\n",
    "    plot_width=700,\n",
    "    plot_height=400,\n",
    "    top_terms_length=5,\n",
    "    sort_doc_labels_by_name=True,\n",
    "    use_offsets=True,\n",
    "    non_text=True,\n",
    "    trend_plot_settings=st.DispersionPlotSettings(\n",
    "        category_order=list(sorted(corpus.get_categories())),\n",
    "        metric='DA',\n",
    "        use_residual=False,\n",
    "    )\n",
    ")\n",
    "print(time() - t0)\n",
    "fn = 'bbc_grouped_dispersion_table.html'\n",
    "with open(fn, 'w') as of:\n",
    "    of.write(html)\n",
    "\n"
   ]
  },
  {
   "cell_type": "code",
   "execution_count": 554,
   "metadata": {},
   "outputs": [
    {
     "name": "stderr",
     "output_type": "stream",
     "text": [
      "../scattertext/scattertext/Scalers.py:247: RuntimeWarning: invalid value encountered in true_divide\n",
      "  vec_ss = (vec_ss - vec_ss.min()) * 1. / (vec_ss.max() - vec_ss.min())\n"
     ]
    },
    {
     "name": "stdout",
     "output_type": "stream",
     "text": [
      "4.820051908493042\n"
     ]
    }
   ],
   "source": [
    "from time import time\n",
    "t0 = time()\n",
    "html = st.produce_scattertext_table(\n",
    "    corpus=corpus,\n",
    "    heading_categories = heading_categories,\n",
    "    heading_category_order = heading_category_order,\n",
    "    category_order=list(sorted(corpus.get_categories())),\n",
    "    all_category_scorer=lambda c: st.AllCategoryTermScorer(c, term_scorer=st.DeltaJSDivergenceScorer),\n",
    "    metadata = lambda c: c.get_df()['Date'].astype(str),\n",
    "    ignore_categories=False,\n",
    "    plot_width=700,\n",
    "    plot_height=400,\n",
    "    top_terms_length=8,\n",
    "    sort_doc_labels_by_name=True,\n",
    "    use_offsets=True,\n",
    "    non_text=True,\n",
    "    trend_plot_settings=st.DispersionPlotSettings(\n",
    "        category_order=list(sorted(corpus.get_categories())),\n",
    "        metric='DA',\n",
    "        use_residual=True,\n",
    "    )\n",
    ")\n",
    "print(time() - t0)\n",
    "fn = 'bbc_grouped_residual_dispersion_table.html'\n",
    "with open(fn, 'w') as of:\n",
    "    of.write(html)"
   ]
  },
  {
   "cell_type": "code",
   "execution_count": 564,
   "metadata": {},
   "outputs": [
    {
     "name": "stdout",
     "output_type": "stream",
     "text": [
      "2.5676259994506836\n"
     ]
    }
   ],
   "source": [
    "from time import time\n",
    "t0 = time()\n",
    "html = st.produce_scattertext_table(\n",
    "    corpus=corpus,\n",
    "    heading_categories = heading_categories,\n",
    "    heading_category_order = heading_category_order,\n",
    "    category_order=list(sorted(corpus.get_categories())),\n",
    "    all_category_scorer=lambda c: st.AllCategoryTermScorer(c, term_scorer=st.DeltaJSDivergenceScorer),\n",
    "    metadata = lambda c: c.get_df()['Date'].astype(str),\n",
    "    ignore_categories=False,\n",
    "    plot_width=700,\n",
    "    plot_height=400,\n",
    "    top_terms_length=8,\n",
    "    sort_doc_labels_by_name=True,\n",
    "    use_offsets=True,\n",
    "    non_text=True,\n",
    "    trend_plot_settings=st.TimePlotSettings(\n",
    "        category_order=list(sorted(corpus.get_categories())),\n",
    "        y_axis_metric='DA',\n",
    "        dispersion_scaler=st.Scalers.dense_rank\n",
    "        #dispersion_scaler=st.Scalers.log_scale_with_negatives\n",
    "    )\n",
    ")\n",
    "print(time() - t0)\n",
    "fn = 'bbc_grouped_time_table.html'\n",
    "with open(fn, 'w') as of:\n",
    "    of.write(html)\n",
    "\n"
   ]
  },
  {
   "cell_type": "code",
   "execution_count": 556,
   "metadata": {},
   "outputs": [
    {
     "name": "stdout",
     "output_type": "stream",
     "text": [
      "4.784108638763428\n"
     ]
    }
   ],
   "source": [
    "from time import time\n",
    "t0 = time()\n",
    "html = st.produce_scattertext_table(\n",
    "    corpus=corpus,\n",
    "    heading_categories = heading_categories,\n",
    "    heading_category_order = heading_category_order,\n",
    "    category_order=list(sorted(corpus.get_categories())),\n",
    "    all_category_scorer=lambda c: st.AllCategoryTermScorer(c, term_scorer=st.DeltaJSDivergenceScorer),\n",
    "    metadata = lambda c: c.get_df()['Date'].astype(str),\n",
    "    ignore_categories=False,\n",
    "    plot_width=1000,\n",
    "    plot_height=400,\n",
    "    top_terms_length=8,\n",
    "    sort_doc_labels_by_name=True,\n",
    "    use_offsets=True,\n",
    "    non_text=True,\n",
    "    trend_plot_settings=st.TimePlotSettings(\n",
    "        category_order=list(sorted(corpus.get_categories())),\n",
    "        y_axis_metric='DA',\n",
    "        dispersion_scaler=st.Scalers.dense_rank\n",
    "        #dispersion_scaler=st.Scalers.log_scale_with_negatives\n",
    "    )\n",
    ")\n",
    "print(time() - t0)\n",
    "fn = 'bbc_grouped_time_table_bigger.html'\n",
    "with open(fn, 'w') as of:\n",
    "    of.write(html)"
   ]
  },
  {
   "cell_type": "code",
   "execution_count": 557,
   "metadata": {},
   "outputs": [
    {
     "name": "stdout",
     "output_type": "stream",
     "text": [
      "9.761425971984863\n"
     ]
    }
   ],
   "source": [
    "from time import time\n",
    "t0 = time()\n",
    "html = st.produce_scattertext_table(\n",
    "    corpus=corpus,\n",
    "    heading_categories = heading_categories,\n",
    "    heading_category_order = heading_category_order,\n",
    "    category_order=list(sorted(corpus.get_categories())),\n",
    "    all_category_scorer=lambda c: st.AllCategoryTermScorer(c, term_scorer=st.DeltaJSDivergenceScorer),\n",
    "    metadata = lambda c: c.get_df()['Date'].astype(str),\n",
    "    ignore_categories=False,\n",
    "    plot_width=1000,\n",
    "    sort_doc_labels_by_name=True,\n",
    "    use_offsets=True,\n",
    "    non_text=True,\n",
    "    trend_plot_settings=st.CorrelationPlotSettings(\n",
    "        category_order=list(sorted(corpus.get_categories()))\n",
    "    )\n",
    ")\n",
    "print(time() - t0)\n",
    "fn = 'bbc_grouped_correlation_table_bigger.html'\n",
    "with open(fn, 'w') as of:\n",
    "    of.write(html"
   ]
  },
  {
   "cell_type": "code",
   "execution_count": null,
   "metadata": {},
   "outputs": [],
   "source": []
  },
  {
   "cell_type": "code",
   "execution_count": null,
   "metadata": {},
   "outputs": [],
   "source": []
  }
 ],
 "metadata": {
  "kernelspec": {
   "display_name": "py38",
   "language": "python",
   "name": "py38"
  },
  "language_info": {
   "codemirror_mode": {
    "name": "ipython",
    "version": 3
   },
   "file_extension": ".py",
   "mimetype": "text/x-python",
   "name": "python",
   "nbconvert_exporter": "python",
   "pygments_lexer": "ipython3",
   "version": "3.7.6"
  }
 },
 "nbformat": 4,
 "nbformat_minor": 2
}
